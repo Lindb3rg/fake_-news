{
 "cells": [
  {
   "cell_type": "code",
   "execution_count": 44,
   "id": "98bdc2da-b25c-4093-8584-26ab152d9af8",
   "metadata": {},
   "outputs": [],
   "source": [
    "from gensim.models import KeyedVectors\n",
    "from gensim.scripts.glove2word2vec import glove2word2vec\n",
    "import pandas as pd\n",
    "import numpy as np\n",
    "from sklearn.model_selection import train_test_split\n",
    "from sklearn.metrics import confusion_matrix, classification_report\n",
    "import matplotlib.pyplot as plt\n",
    "import seaborn as sns\n",
    "from keras.preprocessing.text import Tokenizer\n",
    "from keras.preprocessing.sequence import pad_sequences\n",
    "from keras.models import Sequential, load_model\n",
    "from keras.layers import Embedding, LSTM, Dense, Dropout\n",
    "from sklearn.utils.class_weight import compute_class_weight\n",
    "from keras.optimizers import Adam\n",
    "# from sklearn.utils.class_weight import compute_class_weight\n",
    "# from scikeras.wrappers import KerasClassifier\n",
    "import nltk\n",
    "from nltk.corpus import stopwords\n",
    "from nltk.stem import PorterStemmer, WordNetLemmatizer\n",
    "from newsapi import NewsApiClient\n",
    "import string\n",
    "import spacy\n",
    "from sklearn.utils import resample\n",
    "import pickle"
   ]
  },
  {
   "cell_type": "code",
   "execution_count": 45,
   "id": "2bfef654-9c30-480d-90fc-d9b804819bfe",
   "metadata": {},
   "outputs": [],
   "source": [
    "data = pd.read_csv(\"../csv_file/big_data.csv\") \n",
    "test_data = pd.read_csv(\"../csv_file/test_data.csv\")"
   ]
  },
  {
   "cell_type": "code",
   "execution_count": 46,
   "id": "1eaab644-49bf-40da-bffb-a141ebbdcce2",
   "metadata": {},
   "outputs": [
    {
     "name": "stderr",
     "output_type": "stream",
     "text": [
      "[nltk_data] Downloading package punkt to\n",
      "[nltk_data]     C:\\Users\\soder\\AppData\\Roaming\\nltk_data...\n",
      "[nltk_data]   Package punkt is already up-to-date!\n",
      "[nltk_data] Downloading package stopwords to\n",
      "[nltk_data]     C:\\Users\\soder\\AppData\\Roaming\\nltk_data...\n",
      "[nltk_data]   Package stopwords is already up-to-date!\n",
      "[nltk_data] Downloading package wordnet to\n",
      "[nltk_data]     C:\\Users\\soder\\AppData\\Roaming\\nltk_data...\n",
      "[nltk_data]   Package wordnet is already up-to-date!\n"
     ]
    },
    {
     "name": "stdout",
     "output_type": "stream",
     "text": [
      "\u001b[38;5;2m✔ Download and installation successful\u001b[0m\n",
      "You can now load the package via spacy.load('en_core_web_sm')\n"
     ]
    }
   ],
   "source": [
    "# Download NLTK resources\n",
    "nltk.download('punkt')\n",
    "nltk.download('stopwords')\n",
    "nltk.download('wordnet')\n",
    "\n",
    "# Download spaCy model\n",
    "spacy.cli.download(\"en_core_web_sm\")"
   ]
  },
  {
   "cell_type": "code",
   "execution_count": 47,
   "id": "39c9d2a9-8cbc-49eb-8db0-e70754713a56",
   "metadata": {},
   "outputs": [],
   "source": [
    "nlp = spacy.load(\"en_core_web_sm\")"
   ]
  },
  {
   "cell_type": "code",
   "execution_count": 48,
   "id": "84174632-c1f7-4b01-ab92-e2140277bc33",
   "metadata": {},
   "outputs": [],
   "source": [
    "# Convert GloVe format to Word2Vec format\n",
    "glove_input_file = '../pretrained_word_vectors/glove.6B.100d.txt'\n",
    "word2vec_output_file = '../pretrained_word_vectors/glove.6B.100d.word2vec'"
   ]
  },
  {
   "cell_type": "code",
   "execution_count": 49,
   "id": "a8721c73-99bc-4195-8c98-6a34f44df0e5",
   "metadata": {},
   "outputs": [
    {
     "name": "stderr",
     "output_type": "stream",
     "text": [
      "C:\\Users\\soder\\AppData\\Local\\Temp\\ipykernel_10020\\694258130.py:1: DeprecationWarning: Call to deprecated `glove2word2vec` (KeyedVectors.load_word2vec_format(.., binary=False, no_header=True) loads GLoVE text vectors.).\n",
      "  glove2word2vec(glove_input_file, word2vec_output_file)\n"
     ]
    },
    {
     "data": {
      "text/plain": [
       "(400000, 100)"
      ]
     },
     "execution_count": 49,
     "metadata": {},
     "output_type": "execute_result"
    }
   ],
   "source": [
    "glove2word2vec(glove_input_file, word2vec_output_file)"
   ]
  },
  {
   "cell_type": "code",
   "execution_count": 50,
   "id": "b97792c8-88d1-4a89-9153-d5944bae9cb8",
   "metadata": {},
   "outputs": [],
   "source": [
    "glove_model = KeyedVectors.load_word2vec_format(word2vec_output_file, binary=False)"
   ]
  },
  {
   "cell_type": "code",
   "execution_count": 51,
   "id": "15641862-6586-44e2-9b1d-70473e34d3fb",
   "metadata": {},
   "outputs": [],
   "source": [
    "def preprocess_text(text):\n",
    "    # Lowercasing\n",
    "    text = text.lower()\n",
    "\n",
    "    # Tokenization using spaCy\n",
    "    tokens = nlp(text)\n",
    "    tokens = [token.text for token in tokens]\n",
    "\n",
    "    # Punctuation Removal\n",
    "    tokens = [token for token in tokens if token not in string.punctuation]\n",
    "\n",
    "    # Stop Word Removal\n",
    "    stop_words = set(stopwords.words('english'))\n",
    "    tokens = [token for token in tokens if token not in stop_words]\n",
    "\n",
    "    # Stemming\n",
    "    stemmer = PorterStemmer()\n",
    "    tokens = [stemmer.stem(token) for token in tokens]\n",
    "\n",
    "    # Lemmatization\n",
    "    lemmatizer = WordNetLemmatizer()\n",
    "    tokens = [lemmatizer.lemmatize(token) for token in tokens]\n",
    "\n",
    "    return tokens\n"
   ]
  },
  {
   "cell_type": "code",
   "execution_count": 52,
   "id": "8978b40e-c5ab-4dc0-8fec-8ff3daa0efd1",
   "metadata": {},
   "outputs": [],
   "source": [
    "texts = data[\"headlines\"]\n",
    "labels = data[\"outcome\"]"
   ]
  },
  {
   "cell_type": "code",
   "execution_count": 53,
   "id": "dd0bca2d-e93b-41ab-a45f-871d460aea55",
   "metadata": {},
   "outputs": [],
   "source": [
    "preprocessed_texts = [preprocess_text(text) for text in texts]"
   ]
  },
  {
   "cell_type": "code",
   "execution_count": 61,
   "id": "d451a25d-c5fd-4675-a8a3-5fbbddda81e0",
   "metadata": {},
   "outputs": [],
   "source": [
    "max_words = 23000\n",
    "tokenizer = Tokenizer(num_words=max_words)\n",
    "tokenizer.fit_on_texts(preprocessed_texts)\n",
    "sequences = tokenizer.texts_to_sequences(preprocessed_texts)"
   ]
  },
  {
   "cell_type": "code",
   "execution_count": 62,
   "id": "967d58f1-f8df-4180-85e8-7a2b90f032c9",
   "metadata": {},
   "outputs": [],
   "source": [
    "# Padding sequences\n",
    "maxlen = 75\n",
    "X = pad_sequences(sequences, maxlen=maxlen)"
   ]
  },
  {
   "cell_type": "code",
   "execution_count": 63,
   "id": "74abe0c2-4512-4287-9c6b-5bcba7b60d1a",
   "metadata": {},
   "outputs": [],
   "source": [
    "# Convert labels to numpy array\n",
    "y = np.array(labels)"
   ]
  },
  {
   "cell_type": "code",
   "execution_count": 64,
   "id": "3d37eb2c-446e-4463-abd5-6af7aa94adcf",
   "metadata": {},
   "outputs": [],
   "source": [
    "# Create an embedding matrix\n",
    "word_index = tokenizer.word_index\n",
    "num_words = min(max_words, len(word_index) + 1)\n",
    "embedding_dim = 100  # GloVe embedding dimension"
   ]
  },
  {
   "cell_type": "code",
   "execution_count": 65,
   "id": "cd51d7ed-ba22-4dab-8cd2-dfa5a89651cc",
   "metadata": {},
   "outputs": [],
   "source": [
    "embedding_matrix = np.zeros((num_words, embedding_dim))"
   ]
  },
  {
   "cell_type": "code",
   "execution_count": 66,
   "id": "17448088-8878-4ca5-8fa0-fba80d58d807",
   "metadata": {},
   "outputs": [],
   "source": [
    "for word, i in word_index.items():\n",
    "    if i < max_words:\n",
    "        embedding_vector = glove_model[word] if word in glove_model else None\n",
    "        if embedding_vector is not None:\n",
    "            embedding_matrix[i] = embedding_vector"
   ]
  },
  {
   "cell_type": "code",
   "execution_count": 67,
   "id": "ab6516a5-0f30-45b9-9def-0e8927d99066",
   "metadata": {},
   "outputs": [],
   "source": [
    "# Define the model with pre-trained embeddings\n",
    "embedding_layer = Embedding(max_words, embedding_dim, input_length=maxlen, weights=[embedding_matrix], trainable=False)\n",
    "model = Sequential()\n",
    "model.add(embedding_layer)\n",
    "model.add(LSTM(50))\n",
    "model.add(Dense(1, activation='sigmoid'))"
   ]
  },
  {
   "cell_type": "code",
   "execution_count": 68,
   "id": "a8996458-6f3c-49d5-810a-0f20e13ba394",
   "metadata": {},
   "outputs": [],
   "source": [
    "model.compile(optimizer='adam', loss='binary_crossentropy', metrics=['accuracy'])"
   ]
  },
  {
   "cell_type": "code",
   "execution_count": 69,
   "id": "d14b13bb-e00e-4bb3-a0d0-9fcd471d0cef",
   "metadata": {},
   "outputs": [],
   "source": [
    "X_train, X_test, y_train, y_test = train_test_split(X, y, test_size=0.2, shuffle=True, random_state=42)"
   ]
  },
  {
   "cell_type": "code",
   "execution_count": 70,
   "id": "16acc184-edb8-4997-b28f-9300f94d512c",
   "metadata": {},
   "outputs": [],
   "source": [
    "# Train the model\n",
    "epochs = 10\n",
    "batch_size = 64"
   ]
  },
  {
   "cell_type": "code",
   "execution_count": 74,
   "id": "17838860-19f2-4301-b89f-13d1e8ac68bf",
   "metadata": {},
   "outputs": [
    {
     "name": "stdout",
     "output_type": "stream",
     "text": [
      "Epoch 1/5\n",
      "196/196 [==============================] - 6s 28ms/step - loss: 0.1217 - accuracy: 0.9552 - val_loss: 0.3199 - val_accuracy: 0.8873\n",
      "Epoch 2/5\n",
      "196/196 [==============================] - 5s 28ms/step - loss: 0.1086 - accuracy: 0.9590 - val_loss: 0.3393 - val_accuracy: 0.8898\n",
      "Epoch 3/5\n",
      "196/196 [==============================] - 6s 28ms/step - loss: 0.0999 - accuracy: 0.9649 - val_loss: 0.3613 - val_accuracy: 0.8876\n",
      "Epoch 4/5\n",
      "196/196 [==============================] - 6s 28ms/step - loss: 0.0984 - accuracy: 0.9646 - val_loss: 0.3456 - val_accuracy: 0.8815\n",
      "Epoch 5/5\n",
      "196/196 [==============================] - 6s 29ms/step - loss: 0.0814 - accuracy: 0.9707 - val_loss: 0.3423 - val_accuracy: 0.8937\n"
     ]
    },
    {
     "data": {
      "text/plain": [
       "<keras.src.callbacks.History at 0x1a5b70e6850>"
      ]
     },
     "execution_count": 74,
     "metadata": {},
     "output_type": "execute_result"
    }
   ],
   "source": [
    "model.fit(X_train, y_train, epochs=epochs, batch_size=batch_size, validation_split=0.2)"
   ]
  },
  {
   "cell_type": "code",
   "execution_count": 75,
   "id": "b843569c-82cb-42b6-a3e3-8be252d8987c",
   "metadata": {},
   "outputs": [
    {
     "name": "stdout",
     "output_type": "stream",
     "text": [
      "123/123 [==============================] - 1s 9ms/step - loss: 0.3464 - accuracy: 0.8945\n",
      "Test Accuracy: 89.45%\n"
     ]
    }
   ],
   "source": [
    "# Evaluate the model\n",
    "loss, accuracy = model.evaluate(X_test, y_test)\n",
    "print(f\"Test Accuracy: {accuracy * 100:.2f}%\")"
   ]
  },
  {
   "cell_type": "code",
   "execution_count": 77,
   "id": "5a8d3441-d5e9-4a48-9251-6c615f43e2b2",
   "metadata": {},
   "outputs": [
    {
     "name": "stdout",
     "output_type": "stream",
     "text": [
      "123/123 [==============================] - 1s 9ms/step\n",
      "Confusion Matrix:\n",
      "[[1576  184]\n",
      " [ 229 1926]]\n",
      "Classification Report:\n",
      "              precision    recall  f1-score   support\n",
      "\n",
      "           0       0.87      0.90      0.88      1760\n",
      "           1       0.91      0.89      0.90      2155\n",
      "\n",
      "    accuracy                           0.89      3915\n",
      "   macro avg       0.89      0.89      0.89      3915\n",
      "weighted avg       0.89      0.89      0.89      3915\n",
      "\n"
     ]
    }
   ],
   "source": [
    "# Probability predictions on the test set\n",
    "y_prob = model.predict(X_test)\n",
    "\n",
    "# Convert probabilities to binary predictions using a threshold (e.g., 0.5)\n",
    "y_pred = (y_prob >= 0.5).astype(int)\n",
    "\n",
    "# Confusion Matrix\n",
    "cm = confusion_matrix(y_test, y_pred)\n",
    "print(\"Confusion Matrix:\")\n",
    "print(cm)\n",
    "\n",
    "# Classification Report\n",
    "cr = classification_report(y_test, y_pred)\n",
    "print(\"Classification Report:\")\n",
    "print(cr)"
   ]
  },
  {
   "cell_type": "code",
   "execution_count": 78,
   "id": "a0724b38-77d3-4647-b3a3-1ec21aa9b423",
   "metadata": {},
   "outputs": [
    {
     "name": "stderr",
     "output_type": "stream",
     "text": [
      "C:\\Users\\soder\\applicerad AI\\env\\Lib\\site-packages\\keras\\src\\engine\\training.py:3103: UserWarning: You are saving your model as an HDF5 file via `model.save()`. This file format is considered legacy. We recommend using instead the native Keras format, e.g. `model.save('my_model.keras')`.\n",
      "  saving_api.save_model(\n"
     ]
    }
   ],
   "source": [
    "# Save the model\n",
    "model.save(\"../trained_models_and_preprocessing pipeline/keras_model/keras_model_with_glove_2.h5\")"
   ]
  },
  {
   "cell_type": "code",
   "execution_count": 36,
   "id": "19df3e31-c6b8-4eab-813b-5c729a1a9b58",
   "metadata": {},
   "outputs": [],
   "source": [
    "loaded_model = load_model(\"../trained_models_and_preprocessing pipeline/keras_model/keras_model_with_glove.h5\")"
   ]
  }
 ],
 "metadata": {
  "kernelspec": {
   "display_name": "Python 3 (ipykernel)",
   "language": "python",
   "name": "python3"
  },
  "language_info": {
   "codemirror_mode": {
    "name": "ipython",
    "version": 3
   },
   "file_extension": ".py",
   "mimetype": "text/x-python",
   "name": "python",
   "nbconvert_exporter": "python",
   "pygments_lexer": "ipython3",
   "version": "3.11.4"
  }
 },
 "nbformat": 4,
 "nbformat_minor": 5
}
