{
 "cells": [
  {
   "cell_type": "code",
   "execution_count": 1,
   "id": "95d66764-b5c5-419f-8f4d-8733f0f97059",
   "metadata": {},
   "outputs": [],
   "source": [
    "import pandas as pd\n",
    "import numpy as np\n",
    "from sklearn.model_selection import train_test_split\n",
    "from sklearn.metrics import confusion_matrix, classification_report\n",
    "import matplotlib.pyplot as plt\n",
    "import seaborn as sns\n",
    "from keras.preprocessing.text import Tokenizer\n",
    "from keras.preprocessing.sequence import pad_sequences\n",
    "from keras.models import Sequential\n",
    "from keras.layers import Embedding, LSTM, Dense\n",
    "from sklearn.model_selection import GridSearchCV\n",
    "from imblearn.over_sampling import SMOTE\n",
    "from sklearn.utils.class_weight import compute_class_weight\n",
    "from scikeras.wrappers import KerasClassifier\n",
    "import nltk\n",
    "from nltk.corpus import stopwords\n",
    "from nltk.stem import PorterStemmer, WordNetLemmatizer\n",
    "from newsapi import NewsApiClient\n",
    "import string\n",
    "import spacy"
   ]
  },
  {
   "cell_type": "code",
   "execution_count": 2,
   "id": "6bf66d05-d4f0-4808-b102-0978d669d936",
   "metadata": {},
   "outputs": [
    {
     "name": "stderr",
     "output_type": "stream",
     "text": [
      "[nltk_data] Downloading package punkt to\n",
      "[nltk_data]     C:\\Users\\soder\\AppData\\Roaming\\nltk_data...\n",
      "[nltk_data]   Package punkt is already up-to-date!\n",
      "[nltk_data] Downloading package stopwords to\n",
      "[nltk_data]     C:\\Users\\soder\\AppData\\Roaming\\nltk_data...\n",
      "[nltk_data]   Package stopwords is already up-to-date!\n",
      "[nltk_data] Downloading package wordnet to\n",
      "[nltk_data]     C:\\Users\\soder\\AppData\\Roaming\\nltk_data...\n",
      "[nltk_data]   Package wordnet is already up-to-date!\n"
     ]
    },
    {
     "name": "stdout",
     "output_type": "stream",
     "text": [
      "\u001b[38;5;2m✔ Download and installation successful\u001b[0m\n",
      "You can now load the package via spacy.load('en_core_web_sm')\n"
     ]
    }
   ],
   "source": [
    "# Download NLTK resources\n",
    "nltk.download('punkt')\n",
    "nltk.download('stopwords')\n",
    "nltk.download('wordnet')\n",
    "\n",
    "# Download spaCy model\n",
    "spacy.cli.download(\"en_core_web_sm\")\n",
    "\n",
    "# Load spaCy model\n",
    "nlp = spacy.load(\"en_core_web_sm\")\n",
    "\n",
    "# Read CSV\n",
    "df = pd.read_csv(\"data/data.csv\")\n",
    "\n",
    "# Extract texts and labels\n",
    "texts = df[\"headlines\"]\n",
    "labels = df[\"outcome\"]"
   ]
  },
  {
   "cell_type": "code",
   "execution_count": null,
   "id": "915d7009-86b2-49fc-8e54-99a8b57a2e0c",
   "metadata": {},
   "outputs": [],
   "source": [
    "# Preprocessing\n",
    "def preprocess_text(text):\n",
    "    # Lowercasing\n",
    "    text = text.lower()\n",
    "    \n",
    "    # Tokenization using spaCy\n",
    "    tokens = nlp(text)\n",
    "    tokens = [token.text for token in tokens]\n",
    "    \n",
    "    # Punctuation Removal\n",
    "    tokens = [token for token in tokens if token not in string.punctuation]\n",
    "    \n",
    "    # Stop Word Removal\n",
    "    stop_words = set(stopwords.words('english'))\n",
    "    tokens = [token for token in tokens if token not in stop_words]\n",
    "    \n",
    "    # Stemming\n",
    "    stemmer = PorterStemmer()\n",
    "    tokens = [stemmer.stem(token) for token in tokens]\n",
    "    \n",
    "    # Lemmatization\n",
    "    lemmatizer = WordNetLemmatizer()\n",
    "    tokens = [lemmatizer.lemmatize(token) for token in tokens]\n",
    "    \n",
    "    return tokens\n",
    "\n",
    "\n",
    "# Apply preprocessing to all texts\n",
    "preprocessed_texts = [preprocess_text(text) for text in texts]\n",
    "\n",
    "# Tokenization using Keras Tokenizer\n",
    "max_words = 12200\n",
    "tokenizer = Tokenizer(num_words=max_words)\n",
    "tokenizer.fit_on_texts(preprocessed_texts)\n",
    "sequences = tokenizer.texts_to_sequences(preprocessed_texts)\n",
    "\n",
    "# Padding sequences\n",
    "maxlen = 75\n",
    "X = pad_sequences(sequences, maxlen=maxlen)\n",
    "\n",
    "# Convert labels to numpy array\n",
    "y = np.array(labels)"
   ]
  },
  {
   "cell_type": "code",
   "execution_count": null,
   "id": "ffeaf2ab-14c9-40c1-9b3c-967c7331ede4",
   "metadata": {},
   "outputs": [],
   "source": [
    "# Build the RNN model\n",
    "embedding_dim = 50  # Dimensionality of the embedding space\n",
    "hidden_units = 50  # Number of LSTM units\n",
    "\n",
    "model = Sequential()\n",
    "model.add(Embedding(max_words, embedding_dim, input_length=maxlen))\n",
    "model.add(LSTM(hidden_units))\n",
    "model.add(Dense(1, activation='sigmoid'))\n",
    "\n",
    "model.compile(optimizer='adam', loss='binary_crossentropy', metrics=['accuracy'])\n",
    "\n",
    "X_train, X_test, y_train, y_test = train_test_split(X, y, test_size=0.2, shuffle=True, random_state=42)\n",
    "\n",
    "# Train the model\n",
    "epochs = 5\n",
    "batch_size = 32\n",
    "\n",
    "model.fit(X_train, y_train, epochs=epochs, batch_size=batch_size, validation_split=0.2)\n",
    "\n",
    "# Evaluate the model\n",
    "loss, accuracy = model.evaluate(X_test, y_test)\n",
    "print(f\"Test Accuracy: {accuracy * 100:.2f}%\")"
   ]
  },
  {
   "cell_type": "code",
   "execution_count": null,
   "id": "2f2b5a8b-8421-468e-8c1f-31bc23671020",
   "metadata": {},
   "outputs": [],
   "source": [
    "y_pred = model.predict(X_test)\n",
    "y_pred_binary = (y_pred > 0.5).astype(int)\n",
    "\n",
    "# Compute confusion matrix\n",
    "cm = confusion_matrix(y_test, y_pred_binary)\n",
    "\n",
    "# Display confusion matrix\n",
    "plt.figure(figsize=(8, 6))\n",
    "sns.heatmap(cm, annot=True, fmt=\"d\", cmap=\"Blues\", xticklabels=['Fake', 'Real'], yticklabels=['Fake', 'Real'])\n",
    "plt.title('Confusion Matrix')\n",
    "plt.xlabel('Predicted')\n",
    "plt.ylabel('Actual')\n",
    "plt.show()\n",
    "\n",
    "# Display classification report\n",
    "print(\"Classification Report:\\n\", classification_report(y_test, y_pred_binary))"
   ]
  },
  {
   "cell_type": "code",
   "execution_count": null,
   "id": "c4ab639c-c091-46d4-a6e1-8fa2ed781b1d",
   "metadata": {},
   "outputs": [],
   "source": [
    "newsapi = NewsApiClient(api_key='2ec72918ca08491b885785649a92cfb7')\n",
    "covid_articles = newsapi.get_everything(q='covid',\n",
    "                                        language='en',\n",
    "                                        sort_by='relevancy',\n",
    "                                        page=1)\n",
    "\n",
    "clean_title = []\n",
    "for index, i in enumerate(covid_articles['articles']):\n",
    "    row = i['title']\n",
    "    row = row.split(\" \")\n",
    "    row = ' '.join(letter for letter in row if letter.isalnum() or letter == \"COVID-19\")\n",
    "    if \"COVID-19\" in row:\n",
    "        row = row.replace(\"COVID-19\", \"COVID19\")\n",
    "    row = row.lower()\n",
    "    clean_title.append(row)"
   ]
  },
  {
   "cell_type": "code",
   "execution_count": null,
   "id": "988ce841-5f07-433e-8604-605d542f9e88",
   "metadata": {},
   "outputs": [],
   "source": [
    "preprocessed_title = [preprocess_text(text) for text in clean_title]"
   ]
  },
  {
   "cell_type": "code",
   "execution_count": null,
   "id": "030f4ad2-6497-4649-9e67-5ebeaefa6c00",
   "metadata": {},
   "outputs": [],
   "source": [
    "new_sequences = tokenizer.texts_to_sequences(preprocessed_title)\n",
    "new_padded_sequence = pad_sequences(new_sequences, maxlen=maxlen)"
   ]
  },
  {
   "cell_type": "code",
   "execution_count": null,
   "id": "fde9e645-2875-457b-a873-ccb718a39568",
   "metadata": {},
   "outputs": [],
   "source": [
    "predictions = model.predict(new_padded_sequence)"
   ]
  },
  {
   "cell_type": "code",
   "execution_count": null,
   "id": "3050e2b6-2ff0-4d9f-935a-38d631f411c0",
   "metadata": {},
   "outputs": [],
   "source": [
    "threshold = 0.5"
   ]
  },
  {
   "cell_type": "code",
   "execution_count": null,
   "id": "b1f585ee-10a4-4f3a-ab4c-6e12f5c4754a",
   "metadata": {},
   "outputs": [],
   "source": [
    "binary_predictions = (predictions >= threshold).astype(int)"
   ]
  },
  {
   "cell_type": "code",
   "execution_count": null,
   "id": "e00997b5-21d1-44f8-bac9-ea40bdb07b07",
   "metadata": {},
   "outputs": [],
   "source": [
    "for index, title in enumerate(clean_title):\n",
    "    prediction = binary_predictions[index]\n",
    "    if prediction == 1:\n",
    "        prediction = \"Real\"\n",
    "    else:\n",
    "        prediction = \"Fake\"\n",
    "    print(f\"Title: {title}\")\n",
    "    print(f\"Prediction: {prediction}\")\n",
    "    print(\"=\" * 50)"
   ]
  },
  {
   "cell_type": "code",
   "execution_count": null,
   "id": "62c25b2b-8ace-4202-8f2b-806534bc4057",
   "metadata": {},
   "outputs": [],
   "source": []
  }
 ],
 "metadata": {
  "kernelspec": {
   "display_name": "Python 3 (ipykernel)",
   "language": "python",
   "name": "python3"
  },
  "language_info": {
   "codemirror_mode": {
    "name": "ipython",
    "version": 3
   },
   "file_extension": ".py",
   "mimetype": "text/x-python",
   "name": "python",
   "nbconvert_exporter": "python",
   "pygments_lexer": "ipython3",
   "version": "3.8.2"
  }
 },
 "nbformat": 4,
 "nbformat_minor": 5
}
